{
 "cells": [
  {
   "cell_type": "code",
   "execution_count": 23,
   "metadata": {},
   "outputs": [],
   "source": [
    "from pandas import Timestamp\n",
    "import numpy as np\n",
    "from numba import njit\n",
    "import numba\n",
    "# import pycurl_requests as requests\n",
    "import requests\n",
    "import pandas as pd\n",
    "from pprint import pprint\n",
    "import sys\n",
    "import itertools\n",
    "import snoop\n",
    "sys.path.append(\n",
    "    \"/Users/GlebSokolov/.vscode/extensions/almenon.arepl-2.0.3/node_modules/arepl-backend/python\"\n",
    ")\n",
    "# from arepl_dump import dump\n",
    "from IPython.core.interactiveshell import InteractiveShell\n",
    "\n",
    "InteractiveShell.ast_node_interactivity = \"all\"\n"
   ]
  },
  {
   "cell_type": "code",
   "execution_count": 2,
   "metadata": {},
   "outputs": [],
   "source": [
    "import coinbase\n",
    "from coinbase.wallet.model import APIObject\n",
    "from coinbase.wallet.client import Client\n",
    "import cbpro\n",
    "\n",
    "coinbase_API_key = \"PZsUB9TdWedNjJcu\"\n",
    "coinbase_API_secret = \"UP8Jz2cfXvDRdgeeNwFy6fCxfJCkQFea\"\n",
    "client = Client(coinbase_API_key, coinbase_API_secret)\n"
   ]
  },
  {
   "cell_type": "code",
   "execution_count": 19,
   "metadata": {},
   "outputs": [],
   "source": [
    "import time\n",
    "import numpy as np\n",
    "\n",
    "symbol = \"AGLD-USDT\"\n",
    "\n",
    "since = \"2021-10-05 10:00:00\"\n",
    "end = \"2021-10-05 11:00:00\"\n",
    "since_ts = Timestamp(since).timestamp()\n",
    "end_ts = Timestamp(end).timestamp()\n"
   ]
  },
  {
   "cell_type": "code",
   "execution_count": 4,
   "metadata": {},
   "outputs": [],
   "source": [
    "%%capture\n",
    "client.get_spot_price(currency='AGLD')\n",
    "client._make_api_object(client._get('v2', 'prices', 'AGLD-USD', 'historic'), APIObject)"
   ]
  },
  {
   "cell_type": "code",
   "execution_count": 5,
   "metadata": {},
   "outputs": [],
   "source": [
    "%%capture\n",
    "import cbpro\n",
    "public_client = cbpro.PublicClient()\n",
    "public_client.get_product_ticker(product_id='AGLD-USD')\n",
    "responses_ = list(public_client.get_product_trades(product_id=symbol)\n",
    ")"
   ]
  },
  {
   "cell_type": "code",
   "execution_count": 6,
   "metadata": {},
   "outputs": [],
   "source": [
    "# %%snoop\n",
    "trade_ids = np.zeros(len(responses_), dtype=int)\n",
    "rrr = np.zeros(len(responses_), dtype=np.int64)\n",
    "for i in range(rrr.shape[0]):\n",
    "    rrr[i] = int(Timestamp(responses_[i][\"time\"]).timestamp())\n",
    "    trade_ids[i] = responses_[i][\"trade_id\"]\n"
   ]
  },
  {
   "cell_type": "code",
   "execution_count": 20,
   "metadata": {},
   "outputs": [
    {
     "data": {
      "text/plain": [
       "79.65215277777777"
      ]
     },
     "execution_count": 20,
     "metadata": {},
     "output_type": "execute_result"
    }
   ],
   "source": [
    "(rrr[1] - end_ts)/(3600*24)"
   ]
  },
  {
   "cell_type": "code",
   "execution_count": 8,
   "metadata": {},
   "outputs": [],
   "source": [
    "# @njit\n",
    "# %%snoop\n",
    "def findid(lst, ts_start, ts_end, trade_ids):\n",
    "    ids = []\n",
    "    for i in range(len(lst)):\n",
    "        if ts_start <= lst[i] <= ts_end:\n",
    "            ids.append((trade_ids[i], i))\n",
    "    return np.array(ids)"
   ]
  },
  {
   "cell_type": "code",
   "execution_count": 21,
   "metadata": {},
   "outputs": [
    {
     "data": {
      "text/plain": [
       "array([[15582, 73934],\n",
       "       [15581, 73935],\n",
       "       [15580, 73936],\n",
       "       [15579, 73937],\n",
       "       [15578, 73938],\n",
       "       [15577, 73939],\n",
       "       [15576, 73940],\n",
       "       [15575, 73941],\n",
       "       [15574, 73942],\n",
       "       [15573, 73943],\n",
       "       [15572, 73944],\n",
       "       [15571, 73945],\n",
       "       [15570, 73946],\n",
       "       [15569, 73947],\n",
       "       [15568, 73948],\n",
       "       [15567, 73949],\n",
       "       [15566, 73950],\n",
       "       [15565, 73951],\n",
       "       [15564, 73952],\n",
       "       [15563, 73953],\n",
       "       [15562, 73954],\n",
       "       [15561, 73955],\n",
       "       [15560, 73956],\n",
       "       [15559, 73957],\n",
       "       [15558, 73958],\n",
       "       [15557, 73959],\n",
       "       [15556, 73960],\n",
       "       [15555, 73961],\n",
       "       [15554, 73962],\n",
       "       [15553, 73963],\n",
       "       [15552, 73964],\n",
       "       [15551, 73965],\n",
       "       [15550, 73966],\n",
       "       [15549, 73967],\n",
       "       [15548, 73968],\n",
       "       [15547, 73969],\n",
       "       [15546, 73970],\n",
       "       [15545, 73971],\n",
       "       [15544, 73972],\n",
       "       [15543, 73973],\n",
       "       [15542, 73974],\n",
       "       [15541, 73975],\n",
       "       [15540, 73976],\n",
       "       [15539, 73977],\n",
       "       [15538, 73978],\n",
       "       [15537, 73979],\n",
       "       [15536, 73980]])"
      ]
     },
     "execution_count": 21,
     "metadata": {},
     "output_type": "execute_result"
    }
   ],
   "source": [
    "findid(rrr, since_ts, end_ts, trade_ids)"
   ]
  },
  {
   "cell_type": "code",
   "execution_count": 17,
   "metadata": {},
   "outputs": [],
   "source": [
    "data = public_client.get_product_historic_rates(\n",
    "    start=since, end=end, product_id=\"AGLD-USDT\"\n",
    ")\n",
    "data = pd.DataFrame(data, columns=[\"time\", \"low\", \"high\", \"open\", \"close\", \"volume\"])\n",
    "data[\"time_iso\"] = pd.to_datetime(data[\"time\"], unit=\"s\")\n"
   ]
  },
  {
   "cell_type": "code",
   "execution_count": 18,
   "metadata": {},
   "outputs": [],
   "source": [
    "r = requests.get('https://api.binance.com/api/v3/aggTrades',\n",
    "        params = {\n",
    "            \"symbol\" : 'AGLDUSDT',\n",
    "            \"startTime\": since_ts,\n",
    "            \"endTime\": end_ts\n",
    "    }).json()"
   ]
  },
  {
   "cell_type": "code",
   "execution_count": 27,
   "metadata": {},
   "outputs": [
    {
     "data": {
      "text/plain": [
       "{'message': 'Invalid positive integer value for parameter - after'}"
      ]
     },
     "execution_count": 27,
     "metadata": {},
     "output_type": "execute_result"
    }
   ],
   "source": [
    "# %%script false --no-raise-error\n",
    "# %%snoop\n",
    "# headers = {\n",
    "#     \"User-Agent\": \"python-requests/2.26.0\",\n",
    "#     \"Accept\": \"*/*\",\n",
    "#     \"Connection\": \"keep-alive\",\n",
    "# }\n",
    "responses = [\n",
    "    requests.get(f\"https://api.exchange.coinbase.com/products/AGLD-USDT/trades?limit=1000&after={i*1000}\").json() for i in range(70)\n",
    "]\n",
    "responses.pop(0)"
   ]
  },
  {
   "cell_type": "code",
   "execution_count": 26,
   "metadata": {},
   "outputs": [],
   "source": [
    "%%script false --no-raise-error\n",
    "# dir(public_client)\n",
    "\n",
    "object_methods = [\n",
    "    method_name\n",
    "    for method_name in dir(public_client)\n",
    "    if callable(getattr(public_client, method_name))\n",
    "]\n",
    "pprint(object_methods)\n"
   ]
  }
 ],
 "metadata": {
  "interpreter": {
   "hash": "40d3a090f54c6569ab1632332b64b2c03c39dcf918b08424e98f38b5ae0af88f"
  },
  "kernelspec": {
   "display_name": "Python 3.9.7 64-bit ('base': conda)",
   "language": "python",
   "name": "python3"
  },
  "language_info": {
   "codemirror_mode": {
    "name": "ipython",
    "version": 3
   },
   "file_extension": ".py",
   "mimetype": "text/x-python",
   "name": "python",
   "nbconvert_exporter": "python",
   "pygments_lexer": "ipython3",
   "version": "3.9.7"
  },
  "orig_nbformat": 4
 },
 "nbformat": 4,
 "nbformat_minor": 2
}
