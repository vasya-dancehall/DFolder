{
 "cells": [
  {
   "cell_type": "code",
   "execution_count": 19,
   "metadata": {},
   "outputs": [],
   "source": [
    "from pandas import Timestamp\n",
    "import numpy as np\n",
    "from numba import njit\n",
    "import numba\n",
    "import pycurl_requests as requests\n",
    "import pandas as pd\n",
    "from pprint import pprint\n",
    "import sys\n",
    "import itertools\n",
    "\n",
    "sys.path.append(\n",
    "    \"/Users/GlebSokolov/.vscode/extensions/almenon.arepl-2.0.3/node_modules/arepl-backend/python\"\n",
    ")\n",
    "# from arepl_dump import dump\n",
    "from IPython.core.interactiveshell import InteractiveShell\n",
    "\n",
    "InteractiveShell.ast_node_interactivity = \"all\"\n"
   ]
  },
  {
   "cell_type": "code",
   "execution_count": 12,
   "metadata": {},
   "outputs": [],
   "source": [
    "import coinbase\n",
    "from coinbase.wallet.model import APIObject\n",
    "from coinbase.wallet.client import Client\n",
    "import cbpro\n",
    "\n",
    "coinbase_API_key = \"PZsUB9TdWedNjJcu\"\n",
    "coinbase_API_secret = \"UP8Jz2cfXvDRdgeeNwFy6fCxfJCkQFea\"\n",
    "client = Client(coinbase_API_key, coinbase_API_secret)\n"
   ]
  },
  {
   "cell_type": "code",
   "execution_count": 22,
   "metadata": {},
   "outputs": [],
   "source": [
    "import time\n",
    "import numpy as np\n",
    "import ccxt\n",
    "\n",
    "symbol = \"AGLD-USDT\"\n",
    "\n",
    "exchange = getattr(ccxt, \"coinbase\")()\n",
    "since = \"2021-10-05 10:00:00\"\n",
    "since_ts = exchange.parse8601(since)\n",
    "end_ts = since_ts + (3600000)\n",
    "end = str(pd.to_datetime(end_ts, unit=\"ms\"))\n"
   ]
  },
  {
   "cell_type": "code",
   "execution_count": 14,
   "metadata": {},
   "outputs": [],
   "source": [
    "%%capture\n",
    "client.get_spot_price(currency='AGLD')\n",
    "client._make_api_object(client._get('v2', 'prices', 'AGLD-USD', 'historic'), APIObject)"
   ]
  },
  {
   "cell_type": "code",
   "execution_count": null,
   "metadata": {},
   "outputs": [],
   "source": [
    "%%capture\n",
    "public_client = cbpro.PublicClient()\n",
    "public_client.get_product_ticker(product_id='AGLD-USD')\n",
    "responses = list(public_client.get_product_trades(product_id=symbol)\n",
    ")"
   ]
  },
  {
   "cell_type": "code",
   "execution_count": null,
   "metadata": {},
   "outputs": [],
   "source": [
    "# %%snoop\n",
    "trade_ids = np.zeros(len(responses), dtype=int)\n",
    "rrr = np.zeros(len(responses), dtype=np.int64)\n",
    "for i in range(rrr.shape[0]):\n",
    "    rrr[i] = int(Timestamp(responses[i][\"time\"]).timestamp() * 1000)\n",
    "    trade_ids[i] = responses[i][\"trade_id\"]\n"
   ]
  },
  {
   "cell_type": "code",
   "execution_count": null,
   "metadata": {},
   "outputs": [],
   "source": [
    "@njit\n",
    "def findid(lst, ts_start, ts_end, trade_ids):\n",
    "    ids = []\n",
    "    for i in range((len(lst))):\n",
    "        if ts_start <= lst[i] <= ts_end:\n",
    "            ids.append((trade_ids[i], i))\n",
    "    return np.array(ids)\n"
   ]
  },
  {
   "cell_type": "code",
   "execution_count": null,
   "metadata": {},
   "outputs": [],
   "source": [
    "data = public_client.get_product_historic_rates(\n",
    "    start=since, end=end, product_id=\"AGLD-USDT\"\n",
    ")\n",
    "data = pd.DataFrame(data, columns=[\"time\", \"low\", \"high\", \"open\", \"close\", \"volume\"])\n",
    "data[\"time_iso\"] = pd.to_datetime(data[\"time\"], unit=\"s\")\n"
   ]
  },
  {
   "cell_type": "code",
   "execution_count": 27,
   "metadata": {},
   "outputs": [],
   "source": [
    "%%script false --no-raise-error\n",
    "headers = {\n",
    "    \"User-Agent\": \"python-requests/2.26.0\",\n",
    "    \"Accept\": \"*/*\",\n",
    "    \"Connection\": \"keep-alive\",\n",
    "}\n",
    "responses = [\n",
    "    requests.get(\n",
    "        f\"https://api.exchange.coinbase.com/products/AGLD-USDT/trades?limit=1000&after={i*1000}\",\n",
    "        headers=headers,\n",
    "    ).json()\n",
    "    for i in range(70)\n",
    "]\n",
    "responses.pop(0)"
   ]
  },
  {
   "cell_type": "code",
   "execution_count": 26,
   "metadata": {},
   "outputs": [],
   "source": [
    "%%script false --no-raise-error\n",
    "# dir(public_client)\n",
    "\n",
    "object_methods = [\n",
    "    method_name\n",
    "    for method_name in dir(public_client)\n",
    "    if callable(getattr(public_client, method_name))\n",
    "]\n",
    "pprint(object_methods)\n"
   ]
  }
 ],
 "metadata": {
  "interpreter": {
   "hash": "40d3a090f54c6569ab1632332b64b2c03c39dcf918b08424e98f38b5ae0af88f"
  },
  "kernelspec": {
   "display_name": "Python 3.9.7 64-bit ('base': conda)",
   "language": "python",
   "name": "python3"
  },
  "language_info": {
   "codemirror_mode": {
    "name": "ipython",
    "version": 3
   },
   "file_extension": ".py",
   "mimetype": "text/x-python",
   "name": "python",
   "nbconvert_exporter": "python",
   "pygments_lexer": "ipython3",
   "version": "3.9.7"
  },
  "orig_nbformat": 4
 },
 "nbformat": 4,
 "nbformat_minor": 2
}
