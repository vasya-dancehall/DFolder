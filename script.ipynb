{
 "cells": [
  {
   "cell_type": "code",
   "execution_count": 1,
   "metadata": {},
   "outputs": [],
   "source": [
    "import pandas as pd\n",
    "import numpy as np\n",
    "from collections import defaultdict"
   ]
  },
  {
   "cell_type": "code",
   "execution_count": 2,
   "metadata": {},
   "outputs": [],
   "source": [
    "import pickle\n",
    "import os.path\n",
    "from google_auth_oauthlib.flow import InstalledAppFlow\n",
    "from google.auth.transport.requests import Request\n",
    "def gsheet_api_check(SCOPES):\n",
    "    creds = None\n",
    "    if os.path.exists('token.pickle'):\n",
    "        with open('token.pickle', 'rb') as token:\n",
    "            creds = pickle.load(token)\n",
    "    if not creds or not creds.valid:\n",
    "        if creds and creds.expired and creds.refresh_token:\n",
    "            creds.refresh(Request())\n",
    "        else:\n",
    "            flow = InstalledAppFlow.from_client_secrets_file(\n",
    "                'credentials.json', SCOPES)\n",
    "            creds = flow.run_local_server(port=0)\n",
    "        with open('token.pickle', 'wb') as token:\n",
    "            pickle.dump(creds, token)\n",
    "    return creds"
   ]
  },
  {
   "cell_type": "code",
   "execution_count": 3,
   "metadata": {},
   "outputs": [],
   "source": [
    "from googleapiclient.discovery import build\n",
    "def pull_sheet_data(SCOPES,SPREADSHEET_ID,DATA_TO_PULL):\n",
    "    creds = gsheet_api_check(SCOPES)\n",
    "    service = build('sheets', 'v4', credentials=creds)\n",
    "    sheet = service.spreadsheets()\n",
    "    result = sheet.values().get(\n",
    "        spreadsheetId=SPREADSHEET_ID,\n",
    "        range=DATA_TO_PULL).execute()\n",
    "    values = result.get('values', [])\n",
    "    \n",
    "    if not values:\n",
    "        print('No data found.')\n",
    "    else:\n",
    "        rows = sheet.values().get(spreadsheetId=SPREADSHEET_ID,\n",
    "                                  range=DATA_TO_PULL).execute()\n",
    "        data = rows.get('values')\n",
    "        print(\"COMPLETE: Data copied\")\n",
    "        return data"
   ]
  },
  {
   "cell_type": "code",
   "execution_count": null,
   "metadata": {},
   "outputs": [],
   "source": [
    "def prettify(x):\n",
    "    if type(x) == str and ',' in x:\n",
    "        x = list(x)\n",
    "        x.remove(',')\n",
    "        return ''.join(x)\n",
    "    elif x == '':\n",
    "        return 0.\n",
    "    elif x == '-':\n",
    "        return 0\n",
    "    else:\n",
    "        return x"
   ]
  },
  {
   "cell_type": "code",
   "execution_count": 4,
   "metadata": {},
   "outputs": [
    {
     "name": "stdout",
     "output_type": "stream",
     "text": [
      "COMPLETE: Data copied\n"
     ]
    }
   ],
   "source": [
    "import pandas as pd\n",
    "SCOPES = ['https://www.googleapis.com/auth/spreadsheets']\n",
    "SPREADSHEET_ID = '1DsdShP0FXDuOyrYXt-5U9tWDbDMRVdgvYxzQ24qHZic'\n",
    "DATA_TO_PULL = 'DATA'\n",
    "data = pull_sheet_data(SCOPES,SPREADSHEET_ID,DATA_TO_PULL)    "
   ]
  },
  {
   "cell_type": "code",
   "execution_count": 70,
   "metadata": {},
   "outputs": [
    {
     "name": "stdout",
     "output_type": "stream",
     "text": [
      "COMPLETE: Data copied\n"
     ]
    }
   ],
   "source": [
    "SCOPES = ['https://www.googleapis.com/auth/spreadsheets']\n",
    "SPREADSHEET_ID = '1IswzB83DTpBdFQ91Lfr-OrDfDiEi4CMQefjeNIemU0I'\n",
    "DATA_TO_PULL = 'Backlog H MM only'\n",
    "mm_coins = pd.DataFrame(pull_sheet_data(SCOPES, SPREADSHEET_ID, DATA_TO_PULL))[0]"
   ]
  },
  {
   "cell_type": "code",
   "execution_count": 280,
   "metadata": {},
   "outputs": [],
   "source": [
    "df = pd.DataFrame(data)\n",
    "coins = [i for i in df.iloc[0] if i != '' and i != None]\n",
    "ind = pd.MultiIndex.from_product([coins, ['Fee', 'Volume', 'Count']])\n",
    "df.drop(index=[0, 2], inplace=True)\n",
    "df.drop(columns=[0, 1], inplace=True)\n",
    "d = df.to_numpy()\n",
    "dff = pd.DataFrame(d, columns=ind)\n",
    "dff.fillna(0, inplace=True)\n",
    "select = [i for i in ind if 'Fee' in i[1]]\n",
    "dff = dff[select]"
   ]
  },
  {
   "cell_type": "code",
   "execution_count": 281,
   "metadata": {},
   "outputs": [],
   "source": [
    "dff = dff.applymap(prettify).astype(float)\n",
    "dff = dff.transpose().sort_values(by=0, ascending=False)\n",
    "dff = dff.transpose()\n",
    "# dff.drop(index=0, inplace=True)"
   ]
  },
  {
   "cell_type": "code",
   "execution_count": 245,
   "metadata": {},
   "outputs": [],
   "source": [
    "mm_only = [i in coins for i in mm_coins]\n",
    "mm = []\n",
    "for i in range(len(mm_only)):\n",
    "    if mm_only[i] == True:\n",
    "        mm.append(mm_coins[i])\n",
    "    else:\n",
    "        continue"
   ]
  },
  {
   "cell_type": "code",
   "execution_count": 282,
   "metadata": {},
   "outputs": [],
   "source": [
    "dff1 = dff.applymap(prettify)\n",
    "idxs = range(len(dff)-4, 1, -4)\n",
    "dff1 = dff1.iloc[idxs][:7].astype(np.float32)"
   ]
  },
  {
   "cell_type": "code",
   "execution_count": 287,
   "metadata": {},
   "outputs": [],
   "source": [
    "temp = pd.DataFrame(data)\n",
    "for_total1 = temp.iloc[1]\n",
    "ft_index = list(range(2, len(for_total1), 3))\n",
    "ft2 = for_total1[ft_index].apply(prettify).astype(float)\n",
    "total = sum(ft2)"
   ]
  },
  {
   "cell_type": "code",
   "execution_count": 284,
   "metadata": {},
   "outputs": [],
   "source": [
    "select = [i for i in ind if 'Fee' in i[1] and i[0] in mm]\n",
    "total_mm = dff[select].iloc[0].sum()\n",
    "total_wo_mm = total - total_mm"
   ]
  },
  {
   "cell_type": "code",
   "execution_count": 289,
   "metadata": {},
   "outputs": [],
   "source": [
    "table = {coins[i]:dff1.transpose().iloc[i].sum(axis=0) for i in range(80)}\n",
    "table = {k: table[k] for k in sorted(table, key=table.get, reverse=True)}\n",
    "table_wo_mm = defaultdict()\n",
    "table_mm = defaultdict()\n",
    "for i in range(len(dff.columns)):\n",
    "    if dff.columns[i][0] not in mm:\n",
    "        table_wo_mm[dff.columns[i][0]] = '$' + str(dff[dff.columns[i]][0]) + ' + ' + '$' + str(table[dff.columns[i][0]])\n",
    "    else:\n",
    "        table_mm[dff.columns[i][0]] = '$' + str(dff[dff.columns[i]][0]) + ' + ' + '$' + str(table[dff.columns[i][0]])"
   ]
  },
  {
   "cell_type": "code",
   "execution_count": 290,
   "metadata": {},
   "outputs": [
    {
     "data": {
      "text/html": [
       "<div>\n",
       "<style scoped>\n",
       "    .dataframe tbody tr th:only-of-type {\n",
       "        vertical-align: middle;\n",
       "    }\n",
       "\n",
       "    .dataframe tbody tr th {\n",
       "        vertical-align: top;\n",
       "    }\n",
       "\n",
       "    .dataframe thead th {\n",
       "        text-align: right;\n",
       "    }\n",
       "</style>\n",
       "<table border=\"1\" class=\"dataframe\">\n",
       "  <thead>\n",
       "    <tr style=\"text-align: right;\">\n",
       "      <th></th>\n",
       "      <th>Total</th>\n",
       "    </tr>\n",
       "    <tr>\n",
       "      <th>Symbol MM</th>\n",
       "      <th></th>\n",
       "    </tr>\n",
       "  </thead>\n",
       "  <tbody>\n",
       "    <tr>\n",
       "      <th>REN</th>\n",
       "      <td>$8813.0 + $72.0</td>\n",
       "    </tr>\n",
       "    <tr>\n",
       "      <th>CAKE</th>\n",
       "      <td>$946.0 + $43.0</td>\n",
       "    </tr>\n",
       "    <tr>\n",
       "      <th>BAL</th>\n",
       "      <td>$316.0 + $34.0</td>\n",
       "    </tr>\n",
       "    <tr>\n",
       "      <th>XVS</th>\n",
       "      <td>$169.0 + $27.0</td>\n",
       "    </tr>\n",
       "    <tr>\n",
       "      <th>LPT</th>\n",
       "      <td>$156.0 + $15.0</td>\n",
       "    </tr>\n",
       "    <tr>\n",
       "      <th>CELR</th>\n",
       "      <td>$122.0 + $4.0</td>\n",
       "    </tr>\n",
       "    <tr>\n",
       "      <th>UMA</th>\n",
       "      <td>$107.0 + $12.0</td>\n",
       "    </tr>\n",
       "    <tr>\n",
       "      <th>TORN</th>\n",
       "      <td>$84.0 + $0.0</td>\n",
       "    </tr>\n",
       "    <tr>\n",
       "      <th>POLS</th>\n",
       "      <td>$82.0 + $0.0</td>\n",
       "    </tr>\n",
       "    <tr>\n",
       "      <th>CELO</th>\n",
       "      <td>$60.0 + $1.0</td>\n",
       "    </tr>\n",
       "    <tr>\n",
       "      <th>VTHO</th>\n",
       "      <td>$34.0 + $2.0</td>\n",
       "    </tr>\n",
       "    <tr>\n",
       "      <th>ATA</th>\n",
       "      <td>$34.0 + $226.0</td>\n",
       "    </tr>\n",
       "    <tr>\n",
       "      <th>YFII</th>\n",
       "      <td>$31.0 + $75.0</td>\n",
       "    </tr>\n",
       "    <tr>\n",
       "      <th>COCOS</th>\n",
       "      <td>$8.0 + $0.0</td>\n",
       "    </tr>\n",
       "    <tr>\n",
       "      <th>BZRX</th>\n",
       "      <td>$5.0 + $0.0</td>\n",
       "    </tr>\n",
       "    <tr>\n",
       "      <th>VGX</th>\n",
       "      <td>$0.0 + $2.0</td>\n",
       "    </tr>\n",
       "  </tbody>\n",
       "</table>\n",
       "</div>"
      ],
      "text/plain": [
       "                     Total\n",
       "Symbol MM                 \n",
       "REN        $8813.0 + $72.0\n",
       "CAKE        $946.0 + $43.0\n",
       "BAL         $316.0 + $34.0\n",
       "XVS         $169.0 + $27.0\n",
       "LPT         $156.0 + $15.0\n",
       "CELR         $122.0 + $4.0\n",
       "UMA         $107.0 + $12.0\n",
       "TORN          $84.0 + $0.0\n",
       "POLS          $82.0 + $0.0\n",
       "CELO          $60.0 + $1.0\n",
       "VTHO          $34.0 + $2.0\n",
       "ATA         $34.0 + $226.0\n",
       "YFII         $31.0 + $75.0\n",
       "COCOS          $8.0 + $0.0\n",
       "BZRX           $5.0 + $0.0\n",
       "VGX            $0.0 + $2.0"
      ]
     },
     "execution_count": 290,
     "metadata": {},
     "output_type": "execute_result"
    }
   ],
   "source": [
    "data_mm = {'Symbol MM':list(table_mm.keys()), 'Total':list(table_mm.values())}\n",
    "df_mm = pd.DataFrame.from_dict((data_mm)).set_index('Symbol MM')\n",
    "df_mm"
   ]
  },
  {
   "cell_type": "code",
   "execution_count": 291,
   "metadata": {},
   "outputs": [
    {
     "data": {
      "text/html": [
       "<div>\n",
       "<style scoped>\n",
       "    .dataframe tbody tr th:only-of-type {\n",
       "        vertical-align: middle;\n",
       "    }\n",
       "\n",
       "    .dataframe tbody tr th {\n",
       "        vertical-align: top;\n",
       "    }\n",
       "\n",
       "    .dataframe thead th {\n",
       "        text-align: right;\n",
       "    }\n",
       "</style>\n",
       "<table border=\"1\" class=\"dataframe\">\n",
       "  <thead>\n",
       "    <tr style=\"text-align: right;\">\n",
       "      <th></th>\n",
       "      <th>Total</th>\n",
       "    </tr>\n",
       "    <tr>\n",
       "      <th>Symbol</th>\n",
       "      <th></th>\n",
       "    </tr>\n",
       "  </thead>\n",
       "  <tbody>\n",
       "    <tr>\n",
       "      <th>SHIB</th>\n",
       "      <td>$51340.0 + $3409.0</td>\n",
       "    </tr>\n",
       "    <tr>\n",
       "      <th>ICP</th>\n",
       "      <td>$4795.0 + $678.0</td>\n",
       "    </tr>\n",
       "    <tr>\n",
       "      <th>C98</th>\n",
       "      <td>$3420.0 + $148.0</td>\n",
       "    </tr>\n",
       "    <tr>\n",
       "      <th>MINA</th>\n",
       "      <td>$3290.0 + $119.0</td>\n",
       "    </tr>\n",
       "    <tr>\n",
       "      <th>AR</th>\n",
       "      <td>$2654.0 + $247.0</td>\n",
       "    </tr>\n",
       "    <tr>\n",
       "      <th>...</th>\n",
       "      <td>...</td>\n",
       "    </tr>\n",
       "    <tr>\n",
       "      <th>BADGER</th>\n",
       "      <td>$0.0 + $30.0</td>\n",
       "    </tr>\n",
       "    <tr>\n",
       "      <th>AMP</th>\n",
       "      <td>$0.0 + $37.0</td>\n",
       "    </tr>\n",
       "    <tr>\n",
       "      <th>IMX</th>\n",
       "      <td>$0.0 + $18.0</td>\n",
       "    </tr>\n",
       "    <tr>\n",
       "      <th>SPELL</th>\n",
       "      <td>$0.0 + $2.0</td>\n",
       "    </tr>\n",
       "    <tr>\n",
       "      <th>ATM</th>\n",
       "      <td>$0.0 + $11.0</td>\n",
       "    </tr>\n",
       "  </tbody>\n",
       "</table>\n",
       "<p>64 rows × 1 columns</p>\n",
       "</div>"
      ],
      "text/plain": [
       "                     Total\n",
       "Symbol                    \n",
       "SHIB    $51340.0 + $3409.0\n",
       "ICP       $4795.0 + $678.0\n",
       "C98       $3420.0 + $148.0\n",
       "MINA      $3290.0 + $119.0\n",
       "AR        $2654.0 + $247.0\n",
       "...                    ...\n",
       "BADGER        $0.0 + $30.0\n",
       "AMP           $0.0 + $37.0\n",
       "IMX           $0.0 + $18.0\n",
       "SPELL          $0.0 + $2.0\n",
       "ATM           $0.0 + $11.0\n",
       "\n",
       "[64 rows x 1 columns]"
      ]
     },
     "execution_count": 291,
     "metadata": {},
     "output_type": "execute_result"
    }
   ],
   "source": [
    "data_wo_mm = {'Symbol':list(table_wo_mm.keys()), 'Total':list(table_wo_mm.values())}\n",
    "df_wo_mm = pd.DataFrame.from_dict((data_wo_mm)).set_index('Symbol')\n",
    "df_wo_mm"
   ]
  },
  {
   "cell_type": "code",
   "execution_count": 292,
   "metadata": {},
   "outputs": [
    {
     "name": "stdout",
     "output_type": "stream",
     "text": [
      "TOTAL = 86557.87234549799, TOTAL w/o MM = 75590.87234549799, TOTAL MM = 10967.0\n"
     ]
    }
   ],
   "source": [
    "print(f'TOTAL = {total}, TOTAL w/o MM = {total_wo_mm}, TOTAL MM = {total_mm}')"
   ]
  }
 ],
 "metadata": {
  "interpreter": {
   "hash": "40d3a090f54c6569ab1632332b64b2c03c39dcf918b08424e98f38b5ae0af88f"
  },
  "kernelspec": {
   "display_name": "Python 3.9.7 64-bit ('base': conda)",
   "language": "python",
   "name": "python3"
  },
  "language_info": {
   "codemirror_mode": {
    "name": "ipython",
    "version": 3
   },
   "file_extension": ".py",
   "mimetype": "text/x-python",
   "name": "python",
   "nbconvert_exporter": "python",
   "pygments_lexer": "ipython3",
   "version": "3.9.7"
  },
  "orig_nbformat": 4
 },
 "nbformat": 4,
 "nbformat_minor": 2
}
